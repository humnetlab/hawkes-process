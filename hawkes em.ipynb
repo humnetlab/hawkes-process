{
 "cells": [
  {
   "cell_type": "code",
   "execution_count": 1,
   "metadata": {
    "collapsed": true
   },
   "outputs": [],
   "source": [
    "import numpy as np \n",
    "from MPHP import MPHP\n",
    "from MHP import MHP\n",
    "\n",
    "import matplotlib.pyplot as plt\n",
    "%matplotlib inline "
   ]
  },
  {
   "cell_type": "code",
   "execution_count": 17,
   "metadata": {},
   "outputs": [
    {
     "name": "stdout",
     "output_type": "stream",
     "text": [
      "Max eigenvalue: 0.10000\n"
     ]
    },
    {
     "data": {
      "text/plain": [
       "531"
      ]
     },
     "execution_count": 17,
     "metadata": {},
     "output_type": "execute_result"
    }
   ],
   "source": [
    "m = np.array([0.2, 0.0, 0.0])\n",
    "a = np.array([[0.1, 0.0, 0.0], \n",
    "              [0.9, 0.0, 0.0],\n",
    "              [0.0, 0.9, 0.0]])\n",
    "w = 3.1\n",
    "\n",
    "P = MHP(mu=m, alpha=a, omega=w)\n",
    "data=P.generate_seq(1000)\n",
    "len(data)"
   ]
  },
  {
   "cell_type": "code",
   "execution_count": 5,
   "metadata": {},
   "outputs": [
    {
     "name": "stdout",
     "output_type": "stream",
     "text": [
      "Max eigenvalue: 0.10000\n"
     ]
    },
    {
     "data": {
      "text/plain": [
       "699"
      ]
     },
     "execution_count": 5,
     "metadata": {},
     "output_type": "execute_result"
    }
   ],
   "source": [
    "m = np.array([0.2, 0.0, 0.0])\n",
    "a = np.array([[0.1, 0.0, 0.0], \n",
    "              [0.9, 0.0, 0.0],\n",
    "              [0.0, 0.9, 0.0]])\n",
    "w = 3.1\n",
    "\n",
    "PP = MPHP(mu=m, alpha=a, omega=w)\n",
    "datap = PP.generate_seq(1000)\n",
    "len(datap)"
   ]
  },
  {
   "cell_type": "code",
   "execution_count": null,
   "metadata": {},
   "outputs": [],
   "source": [
    "PP.mu_day"
   ]
  },
  {
   "cell_type": "code",
   "execution_count": null,
   "metadata": {},
   "outputs": [],
   "source": [
    "P.alpha"
   ]
  },
  {
   "cell_type": "code",
   "execution_count": null,
   "metadata": {},
   "outputs": [],
   "source": [
    "datap = PP.generate_seq(60)\n",
    "len(datap)"
   ]
  },
  {
   "cell_type": "code",
   "execution_count": null,
   "metadata": {},
   "outputs": [],
   "source": [
    "len(P.data)"
   ]
  },
  {
   "cell_type": "code",
   "execution_count": null,
   "metadata": {
    "collapsed": true
   },
   "outputs": [],
   "source": [
    "delta = np.diff(P.data[:, 0])"
   ]
  },
  {
   "cell_type": "code",
   "execution_count": null,
   "metadata": {},
   "outputs": [],
   "source": [
    "np.mean(delta)"
   ]
  },
  {
   "cell_type": "code",
   "execution_count": null,
   "metadata": {},
   "outputs": [],
   "source": [
    "window = 1\n",
    "parent = 0\n",
    "child = 1\n",
    "(delta <= window) & (P.data[:, 1]==parent) "
   ]
  },
  {
   "cell_type": "code",
   "execution_count": null,
   "metadata": {
    "collapsed": true
   },
   "outputs": [],
   "source": [
    "data = P.data[25:35]\n",
    "window=1\n",
    "count = 0\n",
    "parent=0\n",
    "child=1\n",
    "for i in range(len(data)):\n",
    "    count += count_from_time(data, i, window, parent, child)\n",
    "count"
   ]
  },
  {
   "cell_type": "code",
   "execution_count": null,
   "metadata": {
    "collapsed": true
   },
   "outputs": [],
   "source": [
    "def excitation_rate(data, window, parent, child):\n",
    "    '''Number of child events per parent event\n",
    "    \n",
    "    window should be sig less than avg rate of child event\n",
    "    should dep on omega -- see how alpha behaves, total contribution\n",
    "    '''\n",
    "    def count_from_time(data, i, window, parent, child, count=0, prev_diff=0, step=1):\n",
    "    \n",
    "        if (i+step) < len(data):\n",
    "            diff = prev_diff + data[i+step, 0] - data[i, 0]\n",
    "        else:\n",
    "            return count\n",
    "\n",
    "        if diff < window:\n",
    "            if data[i, 1]==parent and data[i+step, 1]==child:\n",
    "                count += 1\n",
    "            count = count_from_time(data, i, window, parent, child, count=count, prev_diff=diff, step=step+1)\n",
    "\n",
    "        return count\n",
    "\n",
    "    count = 0\n",
    "    for i in range(len(data)):\n",
    "        count += count_from_time(data, i, window, parent, child)\n",
    "        \n",
    "    return float(count)/np.sum(data[:, 1]==parent)\n",
    "        "
   ]
  },
  {
   "cell_type": "code",
   "execution_count": null,
   "metadata": {
    "collapsed": true
   },
   "outputs": [],
   "source": [
    "excitation_rate(P.data, window=0.5, parent=0, child=1)"
   ]
  },
  {
   "cell_type": "code",
   "execution_count": null,
   "metadata": {
    "collapsed": true
   },
   "outputs": [],
   "source": [
    "prop_child_events(P.data, window=0.5, parent=1, child=2)"
   ]
  },
  {
   "cell_type": "code",
   "execution_count": null,
   "metadata": {
    "collapsed": true
   },
   "outputs": [],
   "source": [
    "# def EM(Ahat, mhat, mhatday, omega, seq=[], a=[1, 1, 1, 1, 1, 5, 5], smx=None, tmx=None, regularize=False,\n",
    "#        Tm=-1, maxiter=100, epsilon=0.01, verbose=True):\n",
    "#     '''implements MAP EM. Optional to regularize with `smx` and `tmx` matrix (shape=(dim,dim)).\n",
    "#     In general, the `tmx` matrix is a pseudocount of parent events from column j,\n",
    "#     and the `smx` matrix is a pseudocount of child events from column j -> i, \n",
    "#     however, for more details/usage see https://stmorse.github.io/docs/orc-thesis.pdf'''\n",
    "\n",
    "#     # if no sequence passed, uses class instance data\n",
    "#     if len(seq) == 0:\n",
    "#         seq = data\n",
    "\n",
    "#     N = len(seq)\n",
    "#     day = (np.floor(seq[:, 0]) % 7).astype(int)\n",
    "#     dim = mhat.shape[0]\n",
    "#     Tm = float(seq[-1, 0]) if Tm < 0 else float(Tm)\n",
    "#     sequ = seq[:, 1].astype(int)\n",
    "\n",
    "#     p_ii = np.random.uniform(0.01, 0.99, size=N)\n",
    "#     p_ij = np.random.uniform(0.01, 0.99, size=(N, N))\n",
    "\n",
    "#     # PRECOMPUTATIONS\n",
    "\n",
    "#     # diffs[i,j] = t_i - t_j for j < i (o.w. zero)\n",
    "#     diffs = pairwise_distances(np.array([seq[:, 0]]).T, metric='euclidean')\n",
    "#     diffs[np.triu_indices(N)] = 0\n",
    "\n",
    "#     # kern[i,j] = omega*np.exp(-omega*diffs[i,j])\n",
    "#     kern = omega * np.exp(-omega * diffs)\n",
    "\n",
    "#     colidx = np.tile(sequ.reshape((1, N)), (N, 1))\n",
    "#     rowidx = np.tile(sequ.reshape((N, 1)), (1, N))\n",
    "\n",
    "#     # approx of Gt sum in a_{uu'} denom **\n",
    "#     seqcnts = np.array([len(np.where(sequ == i)[0]) for i in range(dim)])\n",
    "#     seqcnts = np.tile(seqcnts, (dim, 1))\n",
    "\n",
    "#     # returns sum of all pmat vals where u_i=a, u_j=b\n",
    "#     # *IF* pmat upper tri set to zero, this is\n",
    "#     # \\sum_{u_i=u}\\sum_{u_j=u', j<i} p_{ij}\n",
    "#     def sum_pij(a, b):\n",
    "#         c = cartesian([np.where(seq[:, 1] == int(a))[0], np.where(seq[:, 1] == int(b))[0]])\n",
    "#         return np.sum(p_ij[c[:, 0], c[:, 1]])\n",
    "#     vp = np.vectorize(sum_pij)\n",
    "\n",
    "#     # \\int_0^t g(t') dt' with g(t)=we^{-wt}\n",
    "#     # def G(t): return 1 - np.exp(-omega * t)\n",
    "#     #   vg = np.vectorize(G)\n",
    "#     # Gdenom = np.array([np.sum(vg(diffs[-1,np.where(seq[:,1]==i)])) for i in range(dim)])\n",
    "\n",
    "#     k = 0\n",
    "#     old_LL = -10000\n",
    "\n",
    "#     while k < maxiter:\n",
    "#         Auu = Ahat[rowidx, colidx] #ahat[i, j] = a_ui, uj\n",
    "#         ag = np.multiply(Auu, kern)\n",
    "#         ag[np.triu_indices(N)] = 0\n",
    "\n",
    "#         # compute m_{u_i}\n",
    "#         mu = mhat[sequ]\n",
    "\n",
    "#         # compute delta_{d_i}\n",
    "#         mu_day = mhatday[day]\n",
    "\n",
    "#         # compute total rates of u_i at time i\n",
    "#         rates = mu*mu_day + np.sum(ag, axis=1)\n",
    "\n",
    "#         # compute matrix of p_ii and p_ij  (keep separate for later computations)\n",
    "#         p_ij = np.divide(ag, np.tile(np.array([rates]).T, (1, N)))\n",
    "#         p_ii = np.divide(mu, rates)\n",
    "\n",
    "#         # compute mhat:  mhat_u = (\\sum_{u_i=u} p_ii) / T\n",
    "#         mhat = np.array([np.sum(p_ii[np.where(seq[:, 1] == i)])\n",
    "#                          for i in range(dim)]) / Tm\n",
    "\n",
    "#         mhatday = np.array([np.divide(np.sum(p_ii[np.where(day == i)]) + a[i] - 1, np.sum(p_ii)/7 + a[i] - 1) for i in range(7)])\n",
    "\n",
    "#         # ahat_{u,u'} = (\\sum_{u_i=u}\\sum_{u_j=u', j<i} p_ij) / \\sum_{u_j=u'} G(T-t_j)\n",
    "#         # approximate with G(T-T_j) = 1\n",
    "#         if regularize:\n",
    "#             Ahat = np.divide(np.fromfunction(lambda i, j: vp(i, j), (dim, dim)) + (smx - 1),\n",
    "#                              seqcnts + tmx)\n",
    "#         else:\n",
    "#             Ahat = np.divide(np.fromfunction(lambda i, j: vp(i, j), (dim, dim)),\n",
    "#                              seqcnts)\n",
    "\n",
    "#         if k % 10 == 0:\n",
    "#             try:\n",
    "#                 term1 = np.sum(np.log(rates))\n",
    "#             except:\n",
    "#                 print('Log error!')\n",
    "#             term2 = Tm * np.sum(mhat)\n",
    "#             term3 = np.sum(np.sum(Ahat[u, int(seq[j, 1])] for j in range(N)) for u in range(dim))\n",
    "#             #new_LL = (1./N) * (term1 - term2 - term3)\n",
    "#             new_LL = (1. / N) * (term1 - term3)\n",
    "#             if abs(new_LL - old_LL) <= epsilon:\n",
    "#                 if verbose:\n",
    "#                     print('Reached stopping criterion. (Old: %1.3f New: %1.3f)' % (old_LL, new_LL))\n",
    "#                     alpha = Ahat\n",
    "#                     mu = mhat\n",
    "#                     mu_day = mhatday\n",
    "#                 return Ahat, mhat, mhatday\n",
    "#             if verbose:\n",
    "#                 print('After ITER %d (old: %1.3f new: %1.3f)' % (k, old_LL, new_LL))\n",
    "#                 print(' terms %1.4f, %1.4f, %1.4f' % (term1, term2, term3))\n",
    "\n",
    "#             old_LL = new_LL\n",
    "\n",
    "#         k += 1\n",
    "\n",
    "#     if verbose:\n",
    "#         print('Reached max iter (%d).' % maxiter)\n",
    "\n",
    "#     alpha = Ahat\n",
    "#     mu = mhat\n",
    "#     mu_day = mhatday\n",
    "#     return Ahat, mhat, mhatday\n"
   ]
  }
 ],
 "metadata": {
  "kernelspec": {
   "display_name": "Python 3",
   "language": "python",
   "name": "python3"
  },
  "language_info": {
   "codemirror_mode": {
    "name": "ipython",
    "version": 3
   },
   "file_extension": ".py",
   "mimetype": "text/x-python",
   "name": "python",
   "nbconvert_exporter": "python",
   "pygments_lexer": "ipython3",
   "version": "3.6.1"
  }
 },
 "nbformat": 4,
 "nbformat_minor": 2
}

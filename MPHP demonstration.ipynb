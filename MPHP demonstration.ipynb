{
 "cells": [
  {
   "cell_type": "code",
   "execution_count": 1,
   "metadata": {
    "collapsed": true
   },
   "outputs": [],
   "source": [
    "import numpy as np \n",
    "from MPHP_weekly import MPHP\n",
    "from MHP import MHP"
   ]
  },
  {
   "cell_type": "code",
   "execution_count": 4,
   "metadata": {},
   "outputs": [
    {
     "name": "stdout",
     "output_type": "stream",
     "text": [
      "Max eigenvalue: 0.10000\n"
     ]
    },
    {
     "data": {
      "text/plain": [
       "146"
      ]
     },
     "execution_count": 4,
     "metadata": {},
     "output_type": "execute_result"
    }
   ],
   "source": [
    "m = np.array([0.2, 0.0, 0.0])\n",
    "a = np.array([[0.1, 0.0, 0.0], \n",
    "              [0.9, 0.0, 0.0],\n",
    "              [0.0, 0.9, 0.0]])\n",
    "w = 3.1\n",
    "md=np.array([2,2,1,1,1,0,0])\n",
    "PP = MPHP(mu=m, alpha=a, omega=w, mu_day=md)\n",
    "datap = PP.generate_seq(180)\n",
    "\n",
    "P = MHP(mu=m, alpha=a, omega=w)\n",
    "P.generate_seq(180)"
   ]
  },
  {
   "cell_type": "code",
   "execution_count": 22,
   "metadata": {},
   "outputs": [
    {
     "name": "stdout",
     "output_type": "stream",
     "text": [
      "After ITER 0 (old: -10000.000 new: 0.033)\n",
      " terms 43.7870, 41.9259, 41.0741\n",
      "After ITER 10 (old: 0.033 new: -1.144)\n",
      " terms -46.7441, 34.7630, 48.2370\n",
      "Reached stopping criterion. (Old: -1.144 New: -1.142)\n"
     ]
    }
   ],
   "source": [
    "mhat = np.random.uniform(0,1, size=3)\n",
    "ahat = np.random.uniform(0,1, size=(3,3))\n",
    "w = 3.\n",
    "\n",
    "alpha0, mu0 = P.EM(ahat, mhat, w)"
   ]
  },
  {
   "cell_type": "code",
   "execution_count": 8,
   "metadata": {},
   "outputs": [
    {
     "name": "stdout",
     "output_type": "stream",
     "text": [
      "After ITER 0 (old: -10000.000 new: -0.165)\n",
      " terms 74.9226, 50.4778, 99.0710\n",
      "After ITER 10 (old: -0.165 new: -0.743)\n",
      " terms -3.6529, 28.0270, 104.8170\n",
      "Reached stopping criterion. (Old: -0.743 New: -0.739)\n"
     ]
    }
   ],
   "source": [
    "mhatday = np.random.uniform(0.8, 1.2, size=7)\n",
    "\n",
    "alpha, mu, mu_day = PP.EM(ahat, mhat, mhatday, w)"
   ]
  },
  {
   "cell_type": "code",
   "execution_count": 23,
   "metadata": {},
   "outputs": [
    {
     "name": "stdout",
     "output_type": "stream",
     "text": [
      "alpha\n",
      " [[ 0.    0.    0.  ]\n",
      " [ 0.77  0.    0.  ]\n",
      " [ 0.    0.68  0.12]]\n",
      "mu\n",
      " [ 0.21  0.    0.  ]\n"
     ]
    }
   ],
   "source": [
    "#Non periodic MHP\n",
    "print('alpha\\n', np.round(alpha0, 2))\n",
    "print('mu\\n', np.round(mu0, 2))"
   ]
  },
  {
   "cell_type": "code",
   "execution_count": 24,
   "metadata": {},
   "outputs": [
    {
     "name": "stdout",
     "output_type": "stream",
     "text": [
      "alpha\n",
      " [[ 0.02  0.03  0.05]\n",
      " [ 1.1   0.05  0.  ]\n",
      " [ 0.    0.85  0.04]]\n",
      "mu\n",
      " [ 0.16  0.    0.  ]\n",
      "mu_day\n",
      " [ 1.95  1.8   1.2   0.98  1.08  0.    0.  ]\n"
     ]
    }
   ],
   "source": [
    "# Periodic MHP\n",
    "print('alpha\\n', np.round(alpha, 2))\n",
    "print('mu\\n', np.round(mu, 2))\n",
    "print('mu_day\\n', np.round(mu_day, 2))"
   ]
  }
 ],
 "metadata": {
  "kernelspec": {
   "display_name": "Python 3",
   "language": "python",
   "name": "python3"
  },
  "language_info": {
   "codemirror_mode": {
    "name": "ipython",
    "version": 3
   },
   "file_extension": ".py",
   "mimetype": "text/x-python",
   "name": "python",
   "nbconvert_exporter": "python",
   "pygments_lexer": "ipython3",
   "version": "3.6.1"
  }
 },
 "nbformat": 4,
 "nbformat_minor": 2
}
